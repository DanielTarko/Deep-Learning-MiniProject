{
 "cells": [
  {
   "cell_type": "markdown",
   "metadata": {},
   "source": [
    "# section 1.2.1"
   ]
  },
  {
   "cell_type": "code",
   "execution_count": null,
   "metadata": {},
   "outputs": [
    {
     "data": {
      "text/plain": [
       "False"
      ]
     },
     "execution_count": 1,
     "metadata": {},
     "output_type": "execute_result"
    }
   ],
   "source": [
    "import utils\n",
    "import torch\n",
    "import encoder1\n",
    "import random\n",
    "import numpy as np\n",
    "from torch.utils.data import DataLoader, random_split\n",
    "from utils import plot_tsne\n",
    "from torchvision import datasets, transforms\n"
   ]
  },
  {
   "cell_type": "code",
   "execution_count": null,
   "metadata": {},
   "outputs": [],
   "source": [
    "\n",
    "device = torch.device('cuda' if torch.cuda.is_available() else 'cpu')\n",
    "autoencoder = encoder1.Autoencoder().to(device)\n",
    "classifier = encoder1.Classifier(autoencoder.encoder, num_classes=10).to(device)\n",
    "def freeze_seeds(seed=0):\n",
    "    random.seed(seed)\n",
    "    np.random.seed(seed)\n",
    "    torch.manual_seed(seed)\n",
    "\n",
    "freeze_seeds(0)\n",
    "transform = transforms.Compose([\n",
    "    transforms.ToTensor(),\n",
    "    transforms.Normalize(mean=[0.5, 0.5, 0.5], std=[0.5, 0.5, 0.5])\n",
    "        #one possible convenient normalization. You don't have to use it.\n",
    "])\n",
    "\n",
    "train_dataset = datasets.CIFAR10(root=\"/datasets/cv_datasets/data\", train=True, download=True, transform=transform)\n",
    "test_dataset = datasets.CIFAR10(root=\"/datasets/cv_datasets/data\", train=False, download=True, transform=transform)"
   ]
  },
  {
   "cell_type": "code",
   "execution_count": 5,
   "metadata": {},
   "outputs": [],
   "source": [
    "batch_size=8\n",
    "validation_split = 0.2\n",
    "validation_size = int(len(train_dataset) * validation_split)\n",
    "train_size = len(train_dataset) - validation_size\n",
    "\n",
    "train_subset, val_subset = random_split(train_dataset, [train_size, validation_size])\n",
    "\n",
    "\n",
    "# Create data loaders\n",
    "train_loader = DataLoader(\n",
    "    train_subset, \n",
    "    batch_size=batch_size,\n",
    "    shuffle=True,\n",
    "    num_workers=2, \n",
    ")\n",
    "\n",
    "val_loader = DataLoader(\n",
    "    val_subset,\n",
    "    batch_size=batch_size,\n",
    "    shuffle=False,\n",
    "    num_workers=2,\n",
    ")\n",
    "\n",
    "test_loader = DataLoader(\n",
    "    test_dataset,\n",
    "    batch_size=batch_size,\n",
    "    shuffle=False,\n",
    "    num_workers=2,\n",
    ")"
   ]
  },
  {
   "cell_type": "code",
   "execution_count": null,
   "metadata": {},
   "outputs": [],
   "source": [
    "# load the model\n",
    "classifier.load_state_dict(torch.load('classifier_cifar10.pth'))\n",
    "plot_tsne(classifier, test_loader, device)"
   ]
  }
 ],
 "metadata": {
  "kernelspec": {
   "display_name": "cs236781-hw",
   "language": "python",
   "name": "python3"
  },
  "language_info": {
   "codemirror_mode": {
    "name": "ipython",
    "version": 3
   },
   "file_extension": ".py",
   "mimetype": "text/x-python",
   "name": "python",
   "nbconvert_exporter": "python",
   "pygments_lexer": "ipython3",
   "version": "3.9.0"
  }
 },
 "nbformat": 4,
 "nbformat_minor": 2
}
